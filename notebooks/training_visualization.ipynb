{
    "cells": [
        {
            "cell_type": "markdown",
            "metadata": {},
            "source": [
                "# 📊 Training Visualization for Faster R-CNN\n",
                "This notebook helps to visualize the training progress, loss curves, and mAP (Mean Average Precision) scores.\n"
            ]
        },
        {
            "cell_type": "code",
            "execution_count": null,
            "metadata": {},
            "outputs": [],
            "source": [
                "import matplotlib.pyplot as plt\n",
                "import json\n",
                "import yaml\n",
                "\n",
                "with open(\"config.yaml\", \"r\") as f: \n",
                "    config = yaml.safe_load(f)\n",
                "\n",
                "# Load training log file\n",
                "log_file = config[\"notebooks\"][\"visualization\"]\n",
                "with open(log_file, 'r') as f:\n",
                "    log_data = json.load(f)\n",
                "\n",
                "# Extract loss and mAP values\n",
                "epochs = list(range(1, len(log_data['loss']) + 1))\n",
                "loss_values = log_data['loss']\n",
                "map_values = log_data['mAP']\n",
                "\n",
                "# Plot loss curve\n",
                "plt.figure(figsize=(10, 5))\n",
                "plt.plot(epochs, loss_values, marker='o', label='Loss')\n",
                "plt.xlabel('Epochs')\n",
                "plt.ylabel('Loss')\n",
                "plt.title('Training Loss Curve')\n",
                "plt.legend()\n",
                "plt.show()\n",
                "\n",
                "# Plot mAP curve\n",
                "plt.figure(figsize=(10, 5))\n",
                "plt.plot(epochs, map_values, marker='o', label='mAP')\n",
                "plt.xlabel('Epochs')\n",
                "plt.ylabel('Mean Average Precision (mAP)')\n",
                "plt.title('mAP Progression Over Epochs')\n",
                "plt.legend()\n",
                "plt.show()"
            ]
        }
    ],
    "metadata": {
        "kernelspec": {
            "display_name": "Python 3",
            "language": "python",
            "name": "python3"
        },
        "language_info": {
            "codemirror_mode": {
                "name": "ipython",
                "version": 3
            },
            "file_extension": ".py",
            "mimetype": "text/x-python",
            "name": "python",
            "nbconvert_exporter": "python",
            "pygments_lexer": "ipython3",
            "version": "3.8"
        }
    },
    "nbformat": 4,
    "nbformat_minor": 4
}
